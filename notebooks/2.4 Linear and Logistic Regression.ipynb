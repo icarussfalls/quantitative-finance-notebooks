{
 "cells": [
  {
   "cell_type": "markdown",
   "metadata": {},
   "source": [
    "## 0. Introduction\n",
    "\n",
    "The purpose of this notebook is to explore linear and logistic regression with reference to chapter 13 from *All of Statistics* (Wasserman, 2004)."
   ]
  },
  {
   "cell_type": "markdown",
   "metadata": {},
   "source": [
    "## 1. Simple Linear Regression\n",
    "\n",
    "**Regression** is a method for studying the relationship between a **response variable** $Y$ and a **covariate** $X$. The covariate is also called a **predictor variable** or a **feature**. One way to summarize the relationship between $X$ and $Y$ is through the regression function\n",
    "\n",
    "$$ r(x) = \\mathbb{E}(Y \\mid X = x) = \\int y \\, f(y \\mid x) \\, dy. $$\n",
    "\n",
    "Our goal is to estimate the regression function $r(x)$ from data of the form\n",
    "\n",
    "$$ (Y_1, X_1), \\ldots, (Y_n, X_n) \\sim F_{X,Y}. $$\n",
    "\n",
    "The simplest version of regression is when $X_i$ is simple (one-dimensional) and $r(x)$ is assumed to be linear:\n",
    "\n",
    "$$ r(x) = \\beta_0 + \\beta_1 x. $$\n",
    "\n",
    "This model is called the simple linear regression model. We will make the further simplifying assumption that $\\mathbb{V}(\\epsilon_i \\mid X = x) = \\sigma^2$ does not depend on $x$. We can thus write the **simple linear regression model** as\n",
    "\n",
    "$$ Y_i = \\beta_0 + \\beta_1 X_i + \\epsilon_i $$\n",
    "\n",
    "where $\\mathbb{E}(\\epsilon_i \\mid X_i) = 0$ and $\\mathbb{V}(\\epsilon_i \\mid X_i) = \\sigma^2$.\n",
    "\n",
    "<center><img src=\"../figures/simple_linear_reg.png\" width=\"350\" height=\"300\"/></center>"
   ]
  },
  {
   "cell_type": "markdown",
   "metadata": {},
   "source": [
    "The unknown parameters in the model are the intercept $\\beta_0$ and the slope $\\beta_1$ and the variance $\\sigma^2$. Let $\\widehat{\\beta}_0$ and $\\widehat{\\beta}_1$ denote estimates of $\\beta_0$ and $\\beta_1$. The **fitted line** is\n",
    "\n",
    "$$ \\widehat{r}(x) = \\widehat{\\beta}_0 + \\widehat{\\beta}_1 x. $$\n",
    "\n",
    "The **predicted values** or **fitted values** are $\\widehat{Y}_i = \\widehat{r}(X_i)$ and the **residuals** are defined to be\n",
    "\n",
    "$$ \\widehat{\\epsilon}_i = Y_i - \\widehat{Y}_i = Y_i - \\left(\\widehat{\\beta}_0 + \\widehat{\\beta}_1 X_i\\right). $$\n",
    "\n",
    "The residual sums of squares or RSS, which measures how well the line fits the data, is defined by $\\text{RSS} = \\sum_{i=1}^n \\widehat{\\epsilon}_i^2$.\n",
    "\n",
    "The **least squares estimates** are the values $\\widehat{\\beta}_0$ and $\\widehat{\\beta}_1$ that minimize RSS. The least squares estimates are given by\n",
    "\n",
    "$$ \\widehat{\\beta}_1 = \\frac{\\sum_{i=1}^n (X_i - \\bar{X}_n)(Y_i - \\bar{Y}_n)}{\\sum_{i=1}^n (X_i - \\bar{X}_n)^2} $$\n",
    "\n",
    "$$ \\widehat{\\beta}_0 = \\bar{Y}_n - \\widehat{\\beta}_1 \\bar{X}_n. $$\n",
    "\n",
    "An unbiased estimate of $\\sigma^2$ is\n",
    "\n",
    "$$ \\widehat{\\sigma}^2 = \\left(\\frac{1}{n - 2}\\right) \\sum_{i=1}^n \\widehat{\\epsilon}_i^2. $$\n",
    "\n",
    "Note: inferences from linear regression are most accurate when the residuals behave like random normal numbers.\n",
    "\n",
    "Let's consider an example in Python."
   ]
  },
  {
   "cell_type": "code",
   "execution_count": 1,
   "metadata": {},
   "outputs": [],
   "source": [
    "import numpy as np\n",
    "import scipy.stats as ss\n",
    "import scipy.optimize as opt\n",
    "import matplotlib.pyplot as plt"
   ]
  },
  {
   "cell_type": "code",
   "execution_count": 2,
   "metadata": {},
   "outputs": [],
   "source": [
    "# Generate synthetic data\n",
    "n = 100\n",
    "X = ss.uniform.rvs(loc=0, scale=10, size=n, random_state=42)\n",
    "true_beta0, true_beta1 = 2, 3\n",
    "true_var = 1\n",
    "epsilon = ss.norm.rvs(loc=0, scale=np.sqrt(true_var), size=n, random_state=42)\n",
    "Y = true_beta0 + true_beta1 * X + epsilon"
   ]
  },
  {
   "cell_type": "code",
   "execution_count": 3,
   "metadata": {},
   "outputs": [
    {
     "name": "stdout",
     "output_type": "stream",
     "text": [
      "True β0 = 2, Estimated β0 = 1.707\n",
      "True β1 = 3, Estimated β1 = 3.040\n",
      "Residual Sum of Squares (RSS) = 80.228\n",
      "True σ² = 1, Unbiased estimate of σ² = 0.819\n"
     ]
    }
   ],
   "source": [
    "# Compute least squares estimates\n",
    "X_mean, Y_mean = np.mean(X), np.mean(Y)\n",
    "ols_beta1 = np.sum((X - X_mean) * (Y - Y_mean)) / np.sum((X - X_mean)**2)\n",
    "ols_beta0 = Y_mean - ols_beta1 * X_mean\n",
    "\n",
    "# Compute fitted values and residuals\n",
    "ols_Y = ols_beta0 + ols_beta1 * X\n",
    "ols_resids = Y - ols_Y\n",
    "ols_RSS = np.sum(ols_resids**2)\n",
    "ols_var_hat = (1 / (n - 2)) * ols_RSS\n",
    "\n",
    "# Print results\n",
    "print(f\"True β0 = {true_beta0}, Estimated β0 = {ols_beta0:.3f}\")\n",
    "print(f\"True β1 = {true_beta1}, Estimated β1 = {ols_beta1:.3f}\")\n",
    "print(f\"Residual Sum of Squares (RSS) = {ols_RSS:.3f}\")\n",
    "print(f\"True σ² = {true_var}, Unbiased estimate of σ² = {ols_var_hat:.3f}\")"
   ]
  },
  {
   "cell_type": "code",
   "execution_count": 4,
   "metadata": {},
   "outputs": [
    {
     "data": {
      "image/png": "[encoded data removed]",
      "text/plain": [
       "<Figure size 500x300 with 1 Axes>"
      ]
     },
     "metadata": {},
     "output_type": "display_data"
    }
   ],
   "source": [
    "# Plot the data and the fitted line\n",
    "plt.figure(figsize=(5,3))\n",
    "plt.scatter(X, Y, label='Data points')\n",
    "plt.plot(X, ols_Y, color='red', label='Regression line')\n",
    "plt.xlabel('X'), plt.ylabel('Y')\n",
    "plt.legend()\n",
    "plt.show()"
   ]
  },
  {
   "cell_type": "markdown",
   "metadata": {},
   "source": [
    "## 2. Least Squares and Maximum Likelihood\n",
    "\n",
    "Suppose we add the assumption that $\\epsilon_i \\mid X_i \\sim N(0, \\sigma^2)$, that is,\n",
    "\n",
    "$$ Y_i \\mid X_i \\sim N(\\mu_i, \\sigma^2) $$\n",
    "\n",
    "where $\\mu_i = \\beta_0 + \\beta_1 X_i$. The likelihood function is\n",
    "\n",
    "$$\n",
    "\\begin{aligned}\n",
    "\\prod_{i=1}^n f(X_i, Y_i) &= \\prod_{i=1}^n f_X(X_i) f_{Y \\mid X}(Y_i \\mid X_i) \\\\\n",
    "&= \\prod_{i=1}^n f_X(X_i) \\times \\prod_{i=1}^n f_{Y \\mid X}(Y_i \\mid X_i) \\\\\n",
    "&= \\mathcal{L}_1 \\times \\mathcal{L}_2\n",
    "\\end{aligned}\n",
    "$$\n",
    "\n",
    "where $\\mathcal{L}_1 = \\prod_{i=1}^n f_X(X_i)$ and\n",
    "\n",
    "$$ \\mathcal{L}_2 = \\prod_{i=1}^n f_{Y \\mid X}(Y_i \\mid X_i). $$\n",
    "\n",
    "The term $\\mathcal{L}_1$ does not involve the parameters $\\beta_0$ and $\\beta_1$. We shall focus on the second term $\\mathcal{L}_2$, which is called the **conditional likelihood**, given by\n",
    "\n",
    "$$\n",
    "\\mathcal{L}_2 \\equiv \\mathcal{L}(\\beta_0, \\beta_1, \\sigma) = \\prod_{i=1}^n f_{Y \\mid X}(Y_i \\mid X_i) \\propto \\sigma^{-n} \\exp \\left\\{ -\\frac{1}{2\\sigma^2} \\sum_{i} (Y_i - \\mu_i)^2 \\right\\}.\n",
    "$$\n",
    "\n",
    "The conditional log-likelihood is\n",
    "\n",
    "$$ \\ell(\\beta_0, \\beta_1, \\sigma) = -n \\log \\sigma - \\frac{1}{2\\sigma^2} \\sum_{i=1}^n \\Big(Y_i - (\\beta_0 + \\beta_1 X_i)\\Big)^2. $$\n",
    "\n",
    "To find the MLE of $(\\beta_0, \\beta_1)$, we maximize $\\ell(\\beta_0, \\beta_1, \\sigma)$. From the equation above, we see that maximizing the likelihood is the same as minimizing the RSS: $\\sum_{i=1}^n \\Big(Y_i - (\\beta_0 + \\beta_1 X_i)\\Big)^2.$ Therefore, we have shown that under the assumption of normality, the least squares estimator is also the maximum likelihood estimator.\n",
    "\n",
    "We can also maximize $\\ell(\\beta_0, \\beta_1, \\sigma)$ over $\\sigma$, yielding the MLE\n",
    "\n",
    "$$ \\widehat{\\sigma}^2 = \\frac{1}{n} \\sum_{i} \\widehat{\\epsilon}_i^2. $$\n",
    "\n",
    "This estimator is similar to, but not identical to, the unbiased estimator."
   ]
  },
  {
   "cell_type": "code",
   "execution_count": 5,
   "metadata": {},
   "outputs": [
    {
     "name": "stdout",
     "output_type": "stream",
     "text": [
      "True β0 = 2, Estimated β0 = 1.707\n",
      "True β1 = 3, Estimated β1 = 3.040\n",
      "Residual Sum of Squares (RSS) = 80.228\n",
      "True σ² = 1, MLE estimate of σ² = 0.802\n"
     ]
    }
   ],
   "source": [
    "# Define the negative log-likelihood function\n",
    "def negative_log_likelihood(params, X, Y):\n",
    "    beta0, beta1, sigma = params\n",
    "    mu = beta0 + beta1 * X\n",
    "    n = len(Y)\n",
    "    resids = Y - mu\n",
    "    log_likelihood = -n * np.log(sigma) - (1 / (2 * sigma**2)) * np.sum(resids**2)\n",
    "    return -log_likelihood\n",
    "\n",
    "# Optimize the negative log-likelihood function\n",
    "result = opt.minimize(negative_log_likelihood, x0=[0, 0, 1], args=(X, Y), \n",
    "                      bounds=[(None, None), (None, None), (1e-10, None)])\n",
    "mle_beta0, mle_beta1, mle_sigma = result.x\n",
    "\n",
    "# Compute fitted values and residuals\n",
    "mle_Y = mle_beta0 + mle_beta1 * X\n",
    "mle_resids = Y - mle_Y\n",
    "mle_RSS = np.sum(mle_resids**2)\n",
    "mle_var_hat = (1 / n) * mle_RSS\n",
    "\n",
    "# Print results\n",
    "print(f\"True β0 = {true_beta0}, Estimated β0 = {mle_beta0:.3f}\")\n",
    "print(f\"True β1 = {true_beta1}, Estimated β1 = {mle_beta1:.3f}\")\n",
    "print(f\"Residual Sum of Squares (RSS) = {mle_RSS:.3f}\")\n",
    "print(f\"True σ² = {true_var}, MLE estimate of σ² = {mle_var_hat:.3f}\")"
   ]
  },
  {
   "cell_type": "markdown",
   "metadata": {},
   "source": [
    "## 3. Properties of the Least Squares Estimators\n",
    "\n",
    "We now record the standard errors and limiting distribution of the least squares estimator. In regression problems, we usually focus on the properties of the estimators conditional on $X^n = (X_1, \\ldots, X_n)$. Thus, we state the means and variances as conditional means and variances."
   ]
  },
  {
   "cell_type": "markdown",
   "metadata": {},
   "source": [
    "Let $\\widehat{\\beta}_T = (\\widehat{\\beta}_0, \\widehat{\\beta}_1)^T$ denote the least squares estimators. Then,\n",
    "\n",
    "$$\n",
    "\\mathbb{E}(\\widehat{\\beta} \\mid X^n) = \\begin{pmatrix}\n",
    "\\beta_0 \\\\\n",
    "\\beta_1\n",
    "\\end{pmatrix}\n",
    "$$"
   ]
  },
  {
   "cell_type": "markdown",
   "metadata": {},
   "source": [
    "$$\n",
    "\\mathbb{V}(\\widehat{\\beta} \\mid X^n) = \\frac{\\sigma^2}{n \\, s^2_{X}} \\begin{pmatrix}\n",
    "\\frac{1}{n} \\sum_{i=1}^n X_i^2 & -\\bar{X}_n \\\\\n",
    "-\\bar{X}_n & 1\n",
    "\\end{pmatrix}\n",
    "$$\n"
   ]
  },
  {
   "cell_type": "markdown",
   "metadata": {},
   "source": [
    "where $s_X^2 = n^{-1} \\sum_{i=1}^n (X_i - \\bar{X}_n)^2$."
   ]
  },
  {
   "cell_type": "markdown",
   "metadata": {},
   "source": [
    "The estimated standard errors of $\\widehat{\\beta}_0$ and $\\widehat{\\beta}_1$ are obtained by taking the square roots of the corresponding diagonal terms of $\\mathbb{V}(\\widehat{\\beta} \\mid X_n)$ and inserting the estimate $\\widehat{\\sigma}$ for $\\sigma$. "
   ]
  },
  {
   "cell_type": "code",
   "execution_count": 6,
   "metadata": {},
   "outputs": [
    {
     "name": "stdout",
     "output_type": "stream",
     "text": [
      "Standard Error of β0: 0.170\n",
      "Standard Error of β1: 0.031\n"
     ]
    }
   ],
   "source": [
    "# Compute standard errors\n",
    "s_X2 = np.mean((X - X_mean)**2)\n",
    "var_cov_matrix = (ols_var_hat / (n * s_X2)) * np.array([[np.mean(X**2), -X_mean], [-X_mean, 1]])\n",
    "se_ols_beta0 = np.sqrt(var_cov_matrix[0, 0])\n",
    "se_ols_beta1 = np.sqrt(var_cov_matrix[1, 1])\n",
    "\n",
    "# Print results\n",
    "print(f\"Standard Error of β0: {se_ols_beta0:.3f}\")\n",
    "print(f\"Standard Error of β1: {se_ols_beta1:.3f}\")"
   ]
  },
  {
   "cell_type": "code",
   "execution_count": 7,
   "metadata": {},
   "outputs": [
    {
     "data": {
      "text/html": [
       "<table class=\"simpletable\">\n",
       "<caption>OLS Regression Results</caption>\n",
       "<tr>\n",
       "  <th>Dep. Variable:</th>            <td>y</td>        <th>  R-squared:         </th> <td>   0.990</td> \n",
       "</tr>\n",
       "<tr>\n",
       "  <th>Model:</th>                   <td>OLS</td>       <th>  Adj. R-squared:    </th> <td>   0.990</td> \n",
       "</tr>\n",
       "<tr>\n",
       "  <th>Method:</th>             <td>Least Squares</td>  <th>  F-statistic:       </th> <td>   9893.</td> \n",
       "</tr>\n",
       "<tr>\n",
       "  <th>Date:</th>             <td>Wed, 11 Sep 2024</td> <th>  Prob (F-statistic):</th> <td>3.14e-100</td>\n",
       "</tr>\n",
       "<tr>\n",
       "  <th>Time:</th>                 <td>15:17:24</td>     <th>  Log-Likelihood:    </th> <td> -130.88</td> \n",
       "</tr>\n",
       "<tr>\n",
       "  <th>No. Observations:</th>      <td>   100</td>      <th>  AIC:               </th> <td>   265.8</td> \n",
       "</tr>\n",
       "<tr>\n",
       "  <th>Df Residuals:</th>          <td>    98</td>      <th>  BIC:               </th> <td>   271.0</td> \n",
       "</tr>\n",
       "<tr>\n",
       "  <th>Df Model:</th>              <td>     1</td>      <th>                     </th>     <td> </td>    \n",
       "</tr>\n",
       "<tr>\n",
       "  <th>Covariance Type:</th>      <td>nonrobust</td>    <th>                     </th>     <td> </td>    \n",
       "</tr>\n",
       "</table>\n",
       "<table class=\"simpletable\">\n",
       "<tr>\n",
       "    <td></td>       <th>coef</th>     <th>std err</th>      <th>t</th>      <th>P>|t|</th>  <th>[0.025</th>    <th>0.975]</th>  \n",
       "</tr>\n",
       "<tr>\n",
       "  <th>const</th> <td>    1.7066</td> <td>    0.170</td> <td>   10.049</td> <td> 0.000</td> <td>    1.370</td> <td>    2.044</td>\n",
       "</tr>\n",
       "<tr>\n",
       "  <th>x1</th>    <td>    3.0403</td> <td>    0.031</td> <td>   99.463</td> <td> 0.000</td> <td>    2.980</td> <td>    3.101</td>\n",
       "</tr>\n",
       "</table>\n",
       "<table class=\"simpletable\">\n",
       "<tr>\n",
       "  <th>Omnibus:</th>       <td> 0.421</td> <th>  Durbin-Watson:     </th> <td>   1.983</td>\n",
       "</tr>\n",
       "<tr>\n",
       "  <th>Prob(Omnibus):</th> <td> 0.810</td> <th>  Jarque-Bera (JB):  </th> <td>   0.376</td>\n",
       "</tr>\n",
       "<tr>\n",
       "  <th>Skew:</th>          <td>-0.146</td> <th>  Prob(JB):          </th> <td>   0.829</td>\n",
       "</tr>\n",
       "<tr>\n",
       "  <th>Kurtosis:</th>      <td> 2.926</td> <th>  Cond. No.          </th> <td>    10.7</td>\n",
       "</tr>\n",
       "</table><br/><br/>Notes:<br/>[1] Standard Errors assume that the covariance matrix of the errors is correctly specified."
      ],
      "text/latex": [
       "\\begin{center}\n",
       "\\begin{tabular}{lclc}\n",
       "\\toprule\n",
       "\\textbf{Dep. Variable:}    &        y         & \\textbf{  R-squared:         } &     0.990   \\\\\n",
       "\\textbf{Model:}            &       OLS        & \\textbf{  Adj. R-squared:    } &     0.990   \\\\\n",
       "\\textbf{Method:}           &  Least Squares   & \\textbf{  F-statistic:       } &     9893.   \\\\\n",
       "\\textbf{Date:}             & Wed, 11 Sep 2024 & \\textbf{  Prob (F-statistic):} & 3.14e-100   \\\\\n",
       "\\textbf{Time:}             &     15:17:24     & \\textbf{  Log-Likelihood:    } &   -130.88   \\\\\n",
       "\\textbf{No. Observations:} &         100      & \\textbf{  AIC:               } &     265.8   \\\\\n",
       "\\textbf{Df Residuals:}     &          98      & \\textbf{  BIC:               } &     271.0   \\\\\n",
       "\\textbf{Df Model:}         &           1      & \\textbf{                     } &             \\\\\n",
       "\\textbf{Covariance Type:}  &    nonrobust     & \\textbf{                     } &             \\\\\n",
       "\\bottomrule\n",
       "\\end{tabular}\n",
       "\\begin{tabular}{lcccccc}\n",
       "               & \\textbf{coef} & \\textbf{std err} & \\textbf{t} & \\textbf{P$> |$t$|$} & \\textbf{[0.025} & \\textbf{0.975]}  \\\\\n",
       "\\midrule\n",
       "\\textbf{const} &       1.7066  &        0.170     &    10.049  &         0.000        &        1.370    &        2.044     \\\\\n",
       "\\textbf{x1}    &       3.0403  &        0.031     &    99.463  &         0.000        &        2.980    &        3.101     \\\\\n",
       "\\bottomrule\n",
       "\\end{tabular}\n",
       "\\begin{tabular}{lclc}\n",
       "\\textbf{Omnibus:}       &  0.421 & \\textbf{  Durbin-Watson:     } &    1.983  \\\\\n",
       "\\textbf{Prob(Omnibus):} &  0.810 & \\textbf{  Jarque-Bera (JB):  } &    0.376  \\\\\n",
       "\\textbf{Skew:}          & -0.146 & \\textbf{  Prob(JB):          } &    0.829  \\\\\n",
       "\\textbf{Kurtosis:}      &  2.926 & \\textbf{  Cond. No.          } &     10.7  \\\\\n",
       "\\bottomrule\n",
       "\\end{tabular}\n",
       "%\\caption{OLS Regression Results}\n",
       "\\end{center}\n",
       "\n",
       "Notes: \\newline\n",
       " [1] Standard Errors assume that the covariance matrix of the errors is correctly specified."
      ],
      "text/plain": [
       "<class 'statsmodels.iolib.summary.Summary'>\n",
       "\"\"\"\n",
       "                            OLS Regression Results                            \n",
       "==============================================================================\n",
       "Dep. Variable:                      y   R-squared:                       0.990\n",
       "Model:                            OLS   Adj. R-squared:                  0.990\n",
       "Method:                 Least Squares   F-statistic:                     9893.\n",
       "Date:                Wed, 11 Sep 2024   Prob (F-statistic):          3.14e-100\n",
       "Time:                        15:17:24   Log-Likelihood:                -130.88\n",
       "No. Observations:                 100   AIC:                             265.8\n",
       "Df Residuals:                      98   BIC:                             271.0\n",
       "Df Model:                           1                                         \n",
       "Covariance Type:            nonrobust                                         \n",
       "==============================================================================\n",
       "                 coef    std err          t      P>|t|      [0.025      0.975]\n",
       "------------------------------------------------------------------------------\n",
       "const          1.7066      0.170     10.049      0.000       1.370       2.044\n",
       "x1             3.0403      0.031     99.463      0.000       2.980       3.101\n",
       "==============================================================================\n",
       "Omnibus:                        0.421   Durbin-Watson:                   1.983\n",
       "Prob(Omnibus):                  0.810   Jarque-Bera (JB):                0.376\n",
       "Skew:                          -0.146   Prob(JB):                        0.829\n",
       "Kurtosis:                       2.926   Cond. No.                         10.7\n",
       "==============================================================================\n",
       "\n",
       "Notes:\n",
       "[1] Standard Errors assume that the covariance matrix of the errors is correctly specified.\n",
       "\"\"\""
      ]
     },
     "execution_count": 7,
     "metadata": {},
     "output_type": "execute_result"
    }
   ],
   "source": [
    "# Confirm our results using statsmodels.api.OLS \n",
    "import statsmodels.api as sm\n",
    "\n",
    "X_with_const = sm.add_constant(X)\n",
    "ols = sm.OLS(Y, X_with_const)\n",
    "ols_result = ols.fit()\n",
    "ols_result.summary()"
   ]
  },
  {
   "cell_type": "markdown",
   "metadata": {},
   "source": [
    "## 4. Prediction\n",
    "\n",
    "Suppose we have estimated a regression model $\\widehat{r}(x) = \\widehat{\\beta}_0 + \\widehat{\\beta}_1 x$ from data $(X_1, Y_1), \\ldots, (X_n, Y_n)$. We observe the value $X = x_*$ of the covariate for a new subject and we want to predict their outcome $Y_*$. An estimate of $Y_*$ is\n",
    "\n",
    "$$ \\widehat{Y}_* = \\widehat{\\beta}_0 + \\widehat{\\beta}_1 x_*. $$\n",
    "\n",
    "Using the formula for the variance of the sum of two random variables,\n",
    "\n",
    "$$\n",
    "\\mathbb{V}(\\widehat{Y}_*) = \\mathbb{V}(\\widehat{\\beta}_0 + \\widehat{\\beta}_1 x_*) = \\mathbb{V}(\\widehat{\\beta}_0) + x_*^2 \\mathbb{V}(\\widehat{\\beta}_1) + 2 x_* \\, \\text{Cov}(\\widehat{\\beta}_0, \\widehat{\\beta}_1).\n",
    "$$\n",
    "\n",
    "The estimated standard error $\\text{se}(\\widehat{Y}_*)$ is the square root of this variance, with $\\widehat{\\sigma}^2$ in place of $\\sigma^2$. However, the confidence interval for $Y_*$ is **not** of the usual form $\\widehat{Y}_* \\pm z_{\\alpha/2} \\text{se}(\\widehat{Y}_*)$. The correct form of the confidence interval is given in the following theorem.\n",
    "\n",
    "Let\n",
    "\n",
    "$$ \\hat{\\xi}_n^2 = \\widehat{\\sigma}^2 \\left( \\frac{\\sum_{i=1}^n (X_i - X_*)^2}{n \\sum_{i} (X_i - \\bar{X})^2} + 1 \\right). $$\n",
    "\n",
    "An approximate $1 - \\alpha$ prediction interval for $Y_*$ is\n",
    "\n",
    "$$ \\widehat{Y}_{*} \\pm z_{\\alpha/2} \\, \\hat{\\xi}_{n}. $$"
   ]
  },
  {
   "cell_type": "code",
   "execution_count": 8,
   "metadata": {},
   "outputs": [
    {
     "name": "stdout",
     "output_type": "stream",
     "text": [
      "Predicted Y = 22.989 for x = 7\n",
      "95% Prediction Interval for Y = (21.201, 24.776)\n"
     ]
    }
   ],
   "source": [
    "# Compute prediction for a new x value\n",
    "x_star = 7\n",
    "Y_star = ols_beta0 + ols_beta1 * x_star\n",
    "xi_n_squared = ols_var_hat * ((np.sum((X - x_star)**2) / (n * np.sum((X - X_mean)**2))) + 1)\n",
    "se_Y_star = np.sqrt(xi_n_squared)\n",
    "alpha = 0.05\n",
    "z_alpha = ss.norm.ppf(1 - alpha / 2)\n",
    "pred_int = (Y_star - z_alpha * se_Y_star, Y_star + z_alpha * se_Y_star)\n",
    "\n",
    "print(f\"Predicted Y = {Y_star:.3f} for x = {x_star}\")\n",
    "print(f\"95% Prediction Interval for Y = ({pred_int[0]:.3f}, {pred_int[1]:.3f})\")"
   ]
  },
  {
   "cell_type": "markdown",
   "metadata": {},
   "source": [
    "## 5. Multiple Regression\n",
    "\n",
    "Now suppose that the covariate is a vector of length $k$. The data are of the form\n",
    "\n",
    "$$ (Y_1, X_1), \\ldots, (Y_i, X_i), \\ldots, (Y_n, X_n) $$\n",
    "\n",
    "where\n",
    "\n",
    "$$ X_i = (X_{i1}, \\ldots, X_{ik}). $$\n",
    "\n",
    "Here, $X_i$ is the vector of $k$ covariate values for the $i^\\text{th}$ observation. The linear regression model is\n",
    "\n",
    "$$ Y_i = \\sum_{j=1}^k \\beta_j X_{ij} + \\epsilon_i $$\n",
    "\n",
    "for $i = 1, \\ldots, n$, where $\\mathbb{E}(\\epsilon_i \\mid X_{i1}, \\ldots, X_{ik}) = 0$. Usually, we want to include an intercept in the model, which we can do by setting $X_{i1} = 1$ for $i = 1, \\ldots, n$. At this point, it will be more convenient to express the model in matrix notation. The outcomes will be denoted by\n",
    "\n",
    "$$\n",
    "Y = \n",
    "\\begin{pmatrix}\n",
    "Y_1 \\\\\n",
    "Y_2 \\\\\n",
    "\\vdots \\\\\n",
    "Y_n\n",
    "\\end{pmatrix}\n",
    "$$\n",
    "\n",
    "and the covariates will be denoted by\n",
    "\n",
    "$$\n",
    "X = \n",
    "\\begin{pmatrix}\n",
    "X_{11} & X_{12} & \\cdots & X_{1k} \\\\\n",
    "X_{21} & X_{22} & \\cdots & X_{2k} \\\\\n",
    "\\vdots & \\vdots & \\vdots & \\vdots \\\\\n",
    "X_{n1} & X_{n2} & \\cdots & X_{nk}\n",
    "\\end{pmatrix}.\n",
    "$$\n",
    "\n",
    "Each row is one observation; the columns correspond to the $k$ covariates. Thus, $X$ is a $(n \\times k)$ matrix. Let\n",
    "\n",
    "$$\n",
    "\\beta = \n",
    "\\begin{pmatrix}\n",
    "\\beta_1 \\\\\n",
    "\\vdots \\\\\n",
    "\\beta_k\n",
    "\\end{pmatrix}\n",
    "\\quad \\text{and} \\quad\n",
    "\\epsilon = \n",
    "\\begin{pmatrix}\n",
    "\\epsilon_1 \\\\\n",
    "\\vdots \\\\\n",
    "\\epsilon_n\n",
    "\\end{pmatrix}.\n",
    "$$\n"
   ]
  },
  {
   "cell_type": "markdown",
   "metadata": {},
   "source": [
    "Thus we can write\n",
    "\n",
    "$$ Y = X \\beta + \\epsilon. $$\n",
    "\n",
    "The form of the least squares estimate is given in the following theorem. Assuming that the $(k \\times k)$ matrix $X^TX$ is invertible, \n",
    "\n",
    "$$ \\widehat{\\beta} = (X^T X)^{-1} X^T Y \\quad $$\n",
    "\n",
    "$$ \\mathbb{V}(\\widehat{\\beta} \\mid X_n) = \\sigma^2 (X^T X)^{-1} \\quad $$\n",
    "\n",
    "$$ \\widehat{\\beta} \\approx N(\\beta, \\sigma^2 (X^T X)^{-1}). $$\n",
    "\n",
    "The estimated regression function is $\\widehat{r}(x) = \\sum_{j=1}^k \\widehat{\\beta}_j x_j$. An unbiased estimate of $\\sigma^2$ is\n",
    "\n",
    "$$ \\widehat{\\sigma}^2 = \\left(\\frac{1}{n - k}\\right) \\sum_{i=1}^n \\widehat{\\epsilon}_i^2 $$\n",
    "\n",
    "where $\\widehat{\\epsilon} = X \\widehat{\\beta} - Y$ is the vector of residuals. An approximate $1 - \\alpha$ confidence interval for $\\beta_j$ is\n",
    "\n",
    "$$ \\widehat{\\beta}_j \\pm z_{\\alpha/2} \\widehat{\\text{se}}(\\widehat{\\beta}_j) $$\n",
    "\n",
    "where $\\widehat{\\text{se}}^2(\\widehat{\\beta}_j)$ is the $j^\\text{th}$ diagonal element of the matrix $\\widehat{\\sigma}_{\\widehat{}}^2 (X^T X)^{-1}$."
   ]
  },
  {
   "cell_type": "markdown",
   "metadata": {},
   "source": [
    "## 6. Model Selection\n",
    "\n",
    "In model selection there are two problems: (i) assigning a \"score\" to each model which measures, in some sense, how good the model is, and (ii) searching through all the models to find the model with the best score.\n",
    "\n",
    "The idea of **stepwise regression** is to build a regression model by adding/removing predictors step-by-step, until the pre-set significance level is met for all predictors. Each step in the stepwise regression procedure can be identified as \"forward selection\" or \"backward selection\", which mean adding a predictor or removing a existing predictor respectively.\n",
    "\n",
    "**AIC (Akaike Information Criterion)** and **BIC (Bayesian information criterion)** are two important examples of criterion-based model selection approaches. AIC and BIC have two similar objective functions to minimize as shown below.\n",
    "\n",
    "$$\n",
    "\\begin{align*}\n",
    "\\text{AIC} &= n \\ln \\left(\\frac{\\text{RSS}}{n} \\right) + 2(k+1) \\\\\n",
    "\\text{BIC} &= n \\ln \\left(\\frac{\\text{RSS}}{n} \\right) + (k+1) \\ln n\n",
    "\\end{align*}\n",
    "$$\n",
    "\n",
    "where $n$ is the number of training data and $k$ is the number of covariates (or parameters). Both criteria help in model selection by balancing fit and complexity, but BIC generally imposes a stricter penalty for complexity, especially for larger sample sizes.\n",
    "\n",
    "Another method is **$\\mathbf{k}$-fold cross-validation**. Here we divide the data into $\\mathrm{k}$ groups; often people take $\\mathrm{k} = 10$. We omit one group of data and fit the models to the remaining data. We use the fitted model to predict the data in the group that was omitted. We then estimate the risk by $\\sum_i(Y_i − \\widehat{Y}_i)^2$ where the sum is over the the data points in the omitted group. This process is repeated for each of the $\\mathrm{k}$ groups and the resulting risk estimates are averaged."
   ]
  },
  {
   "cell_type": "markdown",
   "metadata": {},
   "source": [
    "## 7. Logistic Regression\n",
    "\n",
    "So far we have assumed that $Y_i$ is real valued. **Logistic regression** is a parametric method for regression when $Y_i \\in \\{0, 1\\}$ is binary. For a $k$-dimensional covariate $X$, the model is\n",
    "\n",
    "$$ p_i \\equiv p_i(\\beta) \\equiv \\mathbb{P}(Y_i = 1 \\mid X = x) = \\frac{e^{\\beta_0 + \\sum_{j=1}^k \\beta_j x_{ij}}}{1 + e^{\\beta_0 + \\sum_{j=1}^k \\beta_j x_{ij}}} $$\n",
    "\n",
    "or, equivalently,\n",
    "\n",
    "$$ \\text{logit}(p_i) = \\beta_0 + \\sum_{j=1}^k \\beta_j x_{ij} $$\n",
    "\n",
    "where\n",
    "\n",
    "$$ \\text{logit}(p) = \\log \\left( \\frac{p}{1 - p} \\right). $$\n",
    "\n",
    "The name \"logistic regression\" comes from the fact that $e^x / (1 + e^x)$ is called the logistic function. A plot of the logistic for a one-dimensional covariate is shown below.\n",
    "\n",
    "<center><img src=\"../figures/logistic_reg.png\" width=\"400\" height=\"125\"/></center>\n",
    "\n",
    "Because the $Y_i$'s are binary, the data are Bernoulli:\n",
    "\n",
    "$$ Y_i \\mid X_i = x_i \\sim \\text{Bernoulli}(p_i). $$\n",
    "\n",
    "Hence the (conditional) likelihood function is\n",
    "\n",
    "$$ \\mathcal{L}(\\beta) = \\prod_{i=1}^n p_i(\\beta)^{Y_i} \\, (1 - p_i(\\beta))^{1 - Y_i}. $$\n",
    "\n",
    "The MLE $\\widehat{\\beta}$ has to be obtained by maximizing $\\mathcal{L}(\\beta)$ numerically. There is a fast numerical algorithm called reweighted least squares, the details of which are outlined in Wasserman (2004, pp. 224). The Fisher information matrix $I$ can also be obtained numerically. The estimated standard error of $\\widehat{\\beta}_j$ is the $(j, j)$ element of $J = I^{-1}$. Model selection is usually done using the AIC score $\\ell_S - |S|$ where $\\ell_S$ is the log-likelihood of the model evaluated at the MLE.\n",
    "\n",
    "Let's consider a simple example in Python."
   ]
  },
  {
   "cell_type": "code",
   "execution_count": 9,
   "metadata": {},
   "outputs": [
    {
     "name": "stdout",
     "output_type": "stream",
     "text": [
      "Optimization terminated successfully.\n",
      "         Current function value: 0.514392\n",
      "         Iterations 6\n",
      "                           Logit Regression Results                           \n",
      "==============================================================================\n",
      "Dep. Variable:                      y   No. Observations:                  100\n",
      "Model:                          Logit   Df Residuals:                       96\n",
      "Method:                           MLE   Df Model:                            3\n",
      "Date:                Wed, 11 Sep 2024   Pseudo R-squ.:                  0.2560\n",
      "Time:                        15:17:24   Log-Likelihood:                -51.439\n",
      "converged:                       True   LL-Null:                       -69.135\n",
      "Covariance Type:            nonrobust   LLR p-value:                 1.007e-07\n",
      "==============================================================================\n",
      "                 coef    std err          z      P>|z|      [0.025      0.975]\n",
      "------------------------------------------------------------------------------\n",
      "const         -0.1626      0.248     -0.657      0.511      -0.648       0.323\n",
      "x1             0.6313      0.313      2.020      0.043       0.019       1.244\n",
      "x2            -1.1376      0.295     -3.857      0.000      -1.716      -0.560\n",
      "x3             0.7880      0.265      2.969      0.003       0.268       1.308\n",
      "==============================================================================\n"
     ]
    }
   ],
   "source": [
    "# Logistic regression code example\n",
    "n_samples, n_features = 100, 3\n",
    "X = ss.norm.rvs(size=(n_samples, n_features), random_state=42)\n",
    "true_beta = np.array([0.5, -1.0, 0.75])\n",
    "\n",
    "p = sm.families.links.Logit().inverse(X @ true_beta)              # compute probabilities using logistic function\n",
    "Y = ss.bernoulli.rvs(p, random_state=42)                          # generate binary outcomes using scipy.stats.bernoulli\n",
    "X_with_intercept = sm.add_constant(X)                             # add constant (intercept) to features matrix\n",
    "logit_model = sm.Logit(Y, X_with_intercept)                       # fit logistic regression model using statsmodels\n",
    "result = logit_model.fit()\n",
    "\n",
    "# Print result\n",
    "print(result.summary())"
   ]
  },
  {
   "cell_type": "code",
   "execution_count": 10,
   "metadata": {},
   "outputs": [
    {
     "name": "stdout",
     "output_type": "stream",
     "text": [
      "Standard errors = [0.24771597 0.31258112 0.29495784 0.26537467]\n",
      "AIC = 110.878\n"
     ]
    }
   ],
   "source": [
    "# Compute the Fisher Information Matrix and its inverse\n",
    "fisher_info = result.cov_params()\n",
    "std_errors = np.sqrt(np.diag(fisher_info))\n",
    "aic = result.aic\n",
    "\n",
    "# Print results\n",
    "print(f\"Standard errors = {std_errors}\")\n",
    "print(f\"AIC = {aic:.3f}\")"
   ]
  }
 ],
 "metadata": {
  "kernelspec": {
   "display_name": "py310",
   "language": "python",
   "name": "python3"
  },
  "language_info": {
   "codemirror_mode": {
    "name": "ipython",
    "version": 3
   },
   "file_extension": ".py",
   "mimetype": "text/x-python",
   "name": "python",
   "nbconvert_exporter": "python",
   "pygments_lexer": "ipython3",
   "version": "3.10.13"
  }
 },
 "nbformat": 4,
 "nbformat_minor": 2
}
