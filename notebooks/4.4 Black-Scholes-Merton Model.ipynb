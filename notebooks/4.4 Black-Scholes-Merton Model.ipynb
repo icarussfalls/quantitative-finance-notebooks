{
 "cells": [
  {
   "cell_type": "markdown",
   "metadata": {},
   "source": [
    "## 0. Introduction\n",
    "\n",
    "The purpose of this notebook is to explore the Black-Scholes-Merton option pricing formula with reference to chapter 4 from *Stochastic Calculus for Finance II Continuous-Time Models* (Shreve, 2008) and [this GitHub page](https://github.com/cantaro86/Financial-Models-Numerical-Methods/blob/master/1.1%20Black-Scholes%20numerical%20methods.ipynb) (Cantarutti, 2019)."
   ]
  },
  {
   "cell_type": "markdown",
   "metadata": {},
   "source": [
    "## 1. Black-Scholes Closed Formula\n",
    "\n",
    "Consider a European call option that pays $(S(T) - K)^+$ at time $T$. The strike price $K$ is some nonnegative constant. Black, Scholes, and Merton argued that the value of this call at any time should depend on the time (more precisely, on the time to expiration) and on the value of the stock price at that time, and of course it should also depend on a constant rate of interest, $r$, the volatility of the stock, $\\sigma$, and the contractual strike price, $K$. Only two of these quantities, time and stock price, are variable. Following this reasoning, we let $c(t, x)$ denote the value of the call at time $t$ if the stock price at that time is $S(t) = x$. \n",
    "\n",
    "There is nothing random about the function $c(t, x)$. However, the value of the option is random; it is the stochastic process $c(t, S(t))$ obtained by replacing the dummy variable $x$ by the random stock price $S(t)$ in this function. At the initial time, we do not know the future stock prices $S(t)$ and hence do not know the future option values $c(t, S(t))$. Our goal is to determine the function $c(t, x)$ so we at least have a formula for the future option values in terms of the future stock prices."
   ]
  },
  {
   "cell_type": "markdown",
   "metadata": {},
   "source": [
    "Using the Itô-Doeblin formula, we can derive the Black-Scholes-Merton partial differential equation. Let the stock price $S(t)$ be a geometric Brownian motion:\n",
    "\n",
    "$$ dS(t) = \\alpha S(t) \\, dt + \\sigma S(t) \\, dW(t). $$\n",
    "\n",
    "Let $c(t, S(t))$ be the price at time $t \\in [0, T]$ of a European call paying $(S(T) - K)^+$ at expiration time $T$. Suppose we sell this call for $X(0) = c(0, S(0))$ at time zero and, starting with initial capital $X(0)$, invest in a stock and a money market account paying a constant rate of interest $r$. If $\\Delta(t)$ is the number of shares of stock held by the portfolio at time $t$, then\n",
    "\n",
    "$$ dX(t) = \\Delta(t) \\, dS(t) + r(X(t) - \\Delta(t) S(t)) \\, dt. $$\n",
    "\n",
    "We compute the differential of the discounted portfolio value $e^{-rt} X(t)$, the differential of the discounted call price $e^{-rt} c(t, S(t))$, and set these two equal. This results in the *delta-hedging rule*,\n",
    "\n",
    "$$ \\Delta(t) = c_x(t, S(t)), \\tag{1.1} $$\n",
    "\n",
    "and the Black-Scholes-Merton partial differential equation, \n",
    "\n",
    "$$ c_t(t, x) + rx c_x(t, x) + \\frac{1}{2} \\sigma^2 x^2 c_{xx}(t, x) = r c(t, x). $$\n",
    "\n",
    "In addition to satisfying this partial differential equation, the funcion $c(t, x)$ must satisfy the boundary conditions\n",
    "\n",
    "$$ c(T,x) = (x - K)^+, \\quad c(t,0) = 0, \\quad \\lim_{x \\to \\infty} \\left[ c(t,x) - (x - e^{-r(T-t)} K) \\right] = 0. $$\n",
    "\n",
    "The function satisfying these conditions is \n",
    "\n",
    "$$ c(t,x) = x N(d_1) - K e^{-r(T-t)} N(d_2), \\tag{1.2} $$\n",
    "\n",
    "with \n",
    "\n",
    "$$ d_1 = \\frac{\\ln \\left( \\frac{x}{K} \\right) + \\left(r + \\frac{\\sigma^2}{2} \\right) (T-t)}{\\sigma \\sqrt{T-t}} \\quad \\text{and} \\quad d_2 = d_1 - \\sigma \\sqrt{T-t}, $$\n",
    "\n",
    "where $N$ is the cumulative distribution function of a standard normal random variable. We can interpret $N(d_1)$ and $N(d_2)$ as the risk neutral probabilities of $S(T) > K$ in the stock and money market numeraires respectively.\n",
    "\n",
    "Using the function given by equation (1.2), if one starts with initial capital $X(0) = c(0, S(0))$ and uses the delta-hedging rule (1.1), then at every time $t$, $X(t) = c(t, S(t))$. In particular, at the final time, the value of the hedging portfolio is $X(T) = c(T, S(T)) = (S(T) - K)^+$ almost surely. The short position in the European call has been hedged."
   ]
  },
  {
   "cell_type": "code",
   "execution_count": 1,
   "metadata": {},
   "outputs": [],
   "source": [
    "import numpy as np\n",
    "import scipy.stats as ss"
   ]
  },
  {
   "cell_type": "code",
   "execution_count": 2,
   "metadata": {},
   "outputs": [],
   "source": [
    "# Define parameters\n",
    "S0 = 100.0     # spot price\n",
    "K = 100.0      # strike price\n",
    "T = 1.0        # time to expiration (in years)\n",
    "r = 0.04       # annual risk free rate\n",
    "sigma = 0.2    # annual volatility rate"
   ]
  },
  {
   "cell_type": "code",
   "execution_count": 3,
   "metadata": {},
   "outputs": [],
   "source": [
    "def closed_formula(S0, K, T, r, sigma, payoff='call'):\n",
    "    \"\"\"\n",
    "    Calculate the price of a European option using the Black-Scholes closed formula.\n",
    "\n",
    "    Args:\n",
    "        S0 (float): Initial price (current price).\n",
    "        K (float): Strike price of the option.\n",
    "        T (float): Time to expiration (in years).\n",
    "        r (float): Annual risk-free interest rate.\n",
    "        sigma (float): Annual volatility (standard deviation of the returns).\n",
    "        payoff (Literal['call', 'put']): Option payoff ('call' or 'put'). Defaults to 'call'.\n",
    "\n",
    "    Returns:\n",
    "        float: The estimated price of the option using the Black-Scholes closed formula.\n",
    "    \"\"\"\n",
    "    d1 = (np.log(S0 / K) + (r + sigma**2 / 2) * T) / (sigma * np.sqrt(T))\n",
    "    d2 = d1 - sigma * np.sqrt(T)\n",
    "    if payoff == 'call':\n",
    "        return S0 * ss.norm.cdf(d1) - K * np.exp(-r * T) * ss.norm.cdf(d2)\n",
    "    elif payoff == 'put':\n",
    "        return K * np.exp(-r * T) * ss.norm.cdf(-d2) - S0 * ss.norm.cdf(-d1)"
   ]
  },
  {
   "cell_type": "code",
   "execution_count": 4,
   "metadata": {},
   "outputs": [
    {
     "name": "stdout",
     "output_type": "stream",
     "text": [
      "Call price: 9.925\n",
      "Put price: 6.004\n"
     ]
    }
   ],
   "source": [
    "# Calculate option prices using Black Scholes closed formula\n",
    "call = closed_formula(S0, K, T, r, sigma, 'call')\n",
    "put = closed_formula(S0, K, T, r, sigma, 'put')\n",
    "\n",
    "# Print results\n",
    "print(f\"Call price: {call:.3f}\")\n",
    "print(f\"Put price: {put:.3f}\")"
   ]
  },
  {
   "cell_type": "markdown",
   "metadata": {},
   "source": [
    "### 1.3 Put-Call Parity\n",
    "Put–call parity defines a relationship between the price of a European call option and European put option, both with the identical strike price and expiry, namely that a portfolio of a long call option and a short put option is equivalent to (and hence has the same value as) a single forward contract at this strike price and expiry. \n",
    "\n",
    "This is because if the price at expiry is above the strike price, the call will be exercised, while if it is below, the put will be exercised, and thus in either case one unit of the asset will be purchased for the strike price, exactly as in a forward contract. Thus,\n",
    "\n",
    "$$ C(t) - P(t) = S(t) - K e^{-r(T-t)}. $$"
   ]
  },
  {
   "cell_type": "code",
   "execution_count": 5,
   "metadata": {},
   "outputs": [
    {
     "name": "stdout",
     "output_type": "stream",
     "text": [
      "Call price: 9.925\n",
      "Put-call parity price: 9.925\n"
     ]
    }
   ],
   "source": [
    "# Check put-call parity holds\n",
    "put_call_parity = put + S0 - K * np.exp(-r * T)\n",
    "\n",
    "# Print results\n",
    "print(f\"Call price: {call:.3f}\")\n",
    "print(f\"Put-call parity price: {put_call_parity:.3f}\")"
   ]
  },
  {
   "cell_type": "markdown",
   "metadata": {},
   "source": [
    "## 2. Monte Carlo Method\n",
    "\n",
    "Let's now simulate the random variables:\n",
    "\n",
    "$$ S_T^i = S_0 \\, \\exp\\left\\{\\left(r - \\frac{\\sigma^2}{2}\\right)T + \\sigma W_{T}^i\\right\\}. $$\n",
    "\n",
    "for $1 \\leq i \\leq M$. \n",
    "   \n",
    "The Monte Carlo estimate for the price of a European option is based on the principle that the expected payoff under the risk-neutral measure $\\mathbb{Q}$, denoted $\\mathbb{E}^{\\mathbb{Q}} \\left[ (S_T - K)^+ \\right]$ for a call option (or $\\mathbb{E}^{\\mathbb{Q}} \\left[ (K - S_T)^+ \\right]$ for a put option), can be approximated by averaging the discounted payoffs across all simulations:\n",
    "\n",
    "$$ \\mathbb{E}^{\\mathbb{Q}}\\left[ (S_T - K)^+ \\bigg| S_0 \\right] \\; \\approx \\; \\frac{1}{N} \\sum_{i=1}^N (S_T^i - K)^+. $$"
   ]
  },
  {
   "cell_type": "code",
   "execution_count": 6,
   "metadata": {},
   "outputs": [],
   "source": [
    "def monte_carlo_method(S0, K, T, r, sigma, M, payoff='call', seed=None):\n",
    "    \"\"\"\n",
    "    Calculate the price of a European option using Monte Carlo simulation.\n",
    "    \n",
    "    Args:\n",
    "        S0 (float): Initial price (current price).\n",
    "        K (float): Strike price of the option.\n",
    "        T (float): Time to expiration (in years).\n",
    "        r (float): Annual risk-free interest rate.\n",
    "        sigma (float): Annual volatility (standard deviation of the returns).\n",
    "        M (int): Number of Monte Carlo simulations.\n",
    "        payoff (Literal['call', 'put']): Option payoff ('call' or 'put'). Defaults to 'call'.\n",
    "        seed (Union[int, None]): Random seed for reproducibility. Defaults to None.\n",
    "        \n",
    "    Returns:\n",
    "        tuple containing:\n",
    "            - V (float): The estimated price of the option using Monte Carlo simulation.\n",
    "            - std_err (float): The standard error of the option price using Monte Carlo simulation.\n",
    "    \"\"\" \n",
    "    # Generate random normal variables for Brownian motion\n",
    "    W = ss.norm.rvs(loc=(r-sigma**2/2)*T, scale=sigma*np.sqrt(T), size=M, random_state=seed)\n",
    "    \n",
    "    # Calculate terminal prices\n",
    "    ST = S0 * np.exp(W)\n",
    "    \n",
    "    # Calculate discounted payoffs for call and put options\n",
    "    if payoff == 'call':\n",
    "        payoffs = np.exp(-r * T) * np.maximum(ST - K, 0)\n",
    "        std_err = ss.sem(np.exp(-r * T) * np.maximum(ST - K, 0))\n",
    "    elif payoff == 'put':\n",
    "        payoffs = np.exp(-r * T) * np.maximum(K - ST, 0)\n",
    "        std_err = ss.sem(np.exp(-r * T) * np.maximum(K - ST, 0))\n",
    "    else:\n",
    "        raise ValueError(\"Invalid payoff type. Specify 'call' or 'put'!\")\n",
    "    \n",
    "    V = np.mean(payoffs)\n",
    "    \n",
    "    return V, std_err"
   ]
  },
  {
   "cell_type": "code",
   "execution_count": 7,
   "metadata": {},
   "outputs": [
    {
     "name": "stdout",
     "output_type": "stream",
     "text": [
      "Monte Carlo Call price: 9.925, with error: 0.004559\n",
      "Monte Carlo Put price: 6.005, with error: 0.002847\n"
     ]
    }
   ],
   "source": [
    "# Calculate option prices using the Monte Carlo method\n",
    "call_mc, call_mc_err = monte_carlo_method(S0, K, T, r, sigma, M=10000000, payoff='call', seed=42)\n",
    "put_mc, put_mc_err = monte_carlo_method(S0, K, T, r, sigma, M=10000000, payoff='put', seed=42)\n",
    "\n",
    "# Print results\n",
    "print(f\"Monte Carlo Call price: {call_mc:.3f}, with error: {call_mc_err:.6f}\")\n",
    "print(f\"Monte Carlo Put price: {put_mc:.3f}, with error: {put_mc_err:.6f}\")"
   ]
  },
  {
   "cell_type": "markdown",
   "metadata": {},
   "source": [
    "## 3. Binomial Method\n",
    "\n",
    "The binomial option pricing model is a discrete-time model used to price European-style options by modeling the price evolution of the underlying asset over time. \n",
    "\n",
    "At each time step $\\Delta t$, the underlying asset price can move to either an upward or a downward price level:\n",
    "\n",
    "$$ u = e^{\\sigma \\sqrt{\\Delta t}}, \\quad d = \\frac{1}{u}. $$\n",
    "\n",
    "The model assumes a risk-neutral probability $p$ for an up movement and $1-p$ for a down movement, such that the expected return on the underlying asset equals the risk-free rate, $r$:\n",
    "\n",
    "$$ p = \\frac{e^{r \\Delta t} - d}{u - d}. $$\n",
    "\n",
    "To price the option, a binomial tree is constructed starting from the initial stock price $S_0$. The tree evolves over $N$ time steps, where $\\Delta t = \\frac{T}{N}$​ is the time increment. At each step, the stock price can move up to $u S_0$ or down to $d S_0$. Under the risk-neutral measure, the expected discounted payoff of the option equals its current price under the risk-free rate, $r$."
   ]
  },
  {
   "cell_type": "code",
   "execution_count": 8,
   "metadata": {},
   "outputs": [],
   "source": [
    "def binomial_method(S0, K, T, r, sigma, N, payoff='call'):\n",
    "    \"\"\"\n",
    "    Calculate the price of a European option using the binomial option pricing model.\n",
    "    \n",
    "    Args:\n",
    "        S0 (float): Initial price (current price).\n",
    "        K (float): Strike price of the option.\n",
    "        T (float): Time to expiration (in years).\n",
    "        r (float): Annual risk-free interest rate.\n",
    "        sigma (float): Annual volatility (standard deviation of the returns).\n",
    "        N (int): Number of time steps in the binomial model.\n",
    "        payoff (Literal['call', 'put']): Option payoff ('call' or 'put'). Defaults to 'call'.\n",
    "        \n",
    "    Returns:\n",
    "        float: The estimated price of the option using the binomial model.\n",
    "    \"\"\"\n",
    "    dt = T / N                         # time step increment\n",
    "    u = np.exp(sigma * np.sqrt(dt))    # up factor\n",
    "    d = 1.0 / u                        # down factor\n",
    "    \n",
    "    # Initialize price vector and calculate terminal price array\n",
    "    V = np.zeros(N + 1)\n",
    "    ST = np.array([S0 * u**j * d**(N - j) for j in range(N + 1)])\n",
    "    \n",
    "    # Risk-neutral probabilities\n",
    "    p = (np.exp(r * dt) - d) / (u - d)\n",
    "    q = 1.0 - p\n",
    "    \n",
    "    # Determine option payoff type\n",
    "    if payoff == 'call':\n",
    "        V[:] = np.maximum(ST - K, 0.0)\n",
    "    elif payoff == 'put':\n",
    "        V[:] = np.maximum(K - ST, 0.0)\n",
    "    else:\n",
    "        raise ValueError(\"Invalid payoff type. Specify 'call' or 'put'!\")\n",
    "    \n",
    "    # Backward iteration through the tree\n",
    "    for i in range(N - 1, -1, -1):\n",
    "        V[:-1] = np.exp(-r * dt) * (p * V[1:] + q * V[:-1])\n",
    "    \n",
    "    # Return the calculated option price\n",
    "    return V[0]"
   ]
  },
  {
   "cell_type": "code",
   "execution_count": 9,
   "metadata": {},
   "outputs": [
    {
     "name": "stdout",
     "output_type": "stream",
     "text": [
      "Binomial Call Price: 9.925\n",
      "Binomial Put Price: 6.004\n"
     ]
    }
   ],
   "source": [
    "# Calculate option prices using the Binomial method\n",
    "call_bn = binomial_method(S0, K, T, r, sigma, N=15000, payoff='call')\n",
    "put_bn = binomial_method(S0, K, T, r, sigma, N=15000, payoff='put')\n",
    "\n",
    "# Print results\n",
    "print(f\"Binomial Call Price: {call_bn:.3f}\")\n",
    "print(f\"Binomial Put Price: {put_bn:.3f}\")"
   ]
  }
 ],
 "metadata": {
  "kernelspec": {
   "display_name": "py310",
   "language": "python",
   "name": "python3"
  },
  "language_info": {
   "codemirror_mode": {
    "name": "ipython",
    "version": 3
   },
   "file_extension": ".py",
   "mimetype": "text/x-python",
   "name": "python",
   "nbconvert_exporter": "python",
   "pygments_lexer": "ipython3",
   "version": "3.10.13"
  }
 },
 "nbformat": 4,
 "nbformat_minor": 2
}
