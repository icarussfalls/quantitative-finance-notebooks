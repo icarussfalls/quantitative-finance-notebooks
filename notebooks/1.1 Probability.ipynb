{
 "cells": [
  {
   "cell_type": "markdown",
   "metadata": {},
   "source": [
    "## 0. Introduction\n",
    "\n",
    "The purpose of this notebook is to explore probability, the mathematical language for quantifying uncertainty. We will go through chapter 1 from *All of Statistics* (Wasserman, 2004)."
   ]
  },
  {
   "cell_type": "markdown",
   "metadata": {},
   "source": [
    "## 1. Sample Spaces and Events\n",
    "\n",
    "The **sample space** $\\Omega$ is the set of possible outcomes of an experiment. Points $\\omega$ in $\\Omega$ are called **sample outcomes**, **realizations**, or **elements**. Subsets of $\\Omega$ are called **Events**.\n",
    "\n",
    "For example, if we toss a coin twice then $\\Omega = \\{HH, HT, TH, TT\\}$. The event that the first toss is heads is $A = \\{HH, HT\\}$. If we toss a coin forever, then the sample space is the infinite set \n",
    "\n",
    "$$ \\Omega = \\left\\{ \\omega = (\\omega_1, \\omega_2, \\omega_3, \\ldots,) : \\omega_i \\in \\{H, T\\} \\right\\}. $$\n",
    "\n",
    "### 1.1 Summary of Terminology\n",
    "\n",
    "- $\\Omega$ sample space.\n",
    "- $\\omega$ outcome (point or element).\n",
    "- $A$ event (subset of $\\Omega$).\n",
    "- $A^c$ complement of $A$ (not $A$).\n",
    "- $A \\cup B$ union ($A$ or $B$).\n",
    "- $A \\cap B$ or $AB$ intersection ($A$ and $B$).\n",
    "- $A - B$ set difference ($\\omega$ in $A$ but not in $B$).\n",
    "- $A \\subset B$ set inclusion.\n",
    "- $\\emptyset$ null event (always false).\n",
    "- $\\Omega$ true event (always true).\n",
    "\n",
    "<center><img src=\"../figures/venn.png\"/></center>\n",
    "\n",
    "We say that $A_1, A_2, \\ldots$ are **disjoint** or are **mutually exclusive** if $A_i \\cap A_j = \\emptyset$ whenever $i \\neq j$. For example, $A_1 = [0, 1)$, $A_2 = [1, 2)$, $A_3 = [2, 3), \\ldots$ are disjoint. A **partition** of $\\Omega$ is a sequence of disjoint sets $A_1, A_2, \\ldots$ such that $\\bigcup_{i=1}^\\infty A_i = \\Omega$. Given an event $A$, define the **indicator function** of $A$ by\n",
    "\n",
    "$$\n",
    "I_A(\\omega) = I(\\omega \\in A) = \\begin{cases} \n",
    "1 & \\text{if } \\omega \\in A \\\\\n",
    "0 & \\text{if } \\omega \\notin A. \n",
    "\\end{cases}\n",
    "$$"
   ]
  },
  {
   "cell_type": "markdown",
   "metadata": {},
   "source": [
    "## 2. Probability\n",
    "\n",
    "A function $\\mathbb{P}$ that assigns a real number $\\mathbb{P}(A)$ to each event $A$ is a probability distribution or a probability measure if it satisfies the following three axioms:\n",
    "\n",
    "**Axiom 1**: $\\mathbb{P}(A) \\geq 0$ for every event $A$.\n",
    "\n",
    "**Axiom 2**: $\\mathbb{P}(\\Omega) = 1$.\n",
    "\n",
    "**Axiom 3**: If $A_1, A_2, \\ldots$ are disjoint, then\n",
    "\n",
    "$$ \\mathbb{P}\\left(\\bigcup_{i=1}^{\\infty} A_i\\right) = \\sum_{i=1}^{\\infty} \\mathbb{P}(A_i). $$\n",
    "\n",
    "For any events $A$ and $B$,\n",
    "\n",
    "$$ \\mathbb{P}(A \\cup B) = \\mathbb{P}(A) + \\mathbb{P}(B) - \\mathbb{P}(A \\cap B). $$\n"
   ]
  },
  {
   "cell_type": "markdown",
   "metadata": {},
   "source": [
    "## 3. Probability on Finite Sample Spaces\n",
    "\n",
    "Suppose that the sample space $\\Omega = \\{\\omega_1, \\ldots, \\omega_n\\}$ is finite. For example, if we toss a die twice, then $\\Omega$ has 36 elements: $\\Omega = \\{(i, j) ; i, j \\in \\{1, \\ldots, 6\\}\\}$. If each outcome is equally likely, then $\\mathbb{P}(A) = \\frac{|A|}{36}$ where $|A|$ denotes the number of elements in $A$. The probability that the sum of the dice is $11$ is $2 / 36$ since there are two outcomes that correspond to this event.\n",
    "\n",
    "If $\\Omega$ is finite and if each outcome is equally likely, then\n",
    "\n",
    "$$ \\mathbb{P}(A) = \\frac{|A|}{|\\Omega|}, $$\n",
    "\n",
    "which is called the **uniform probability distribution**. \n",
    "\n",
    "To compute probabilities, we need to count the number of points in an event $A$. Methods for counting points are called combinatorial methods. Given $n$ objects, the number of ways of ordering these objects is $n! = n(n - 1)(n - 2) \\cdots 3 \\cdot 2 \\cdot 1$. For convenience, we define $0! = 1$. We also define\n",
    "\n",
    "$$ C(n, k) = {}^nC_k = {}_nC_k = \\binom{n}{k} = \\frac{n!}{k!(n - k)!}, $$\n",
    "\n",
    "read \"$n$ choose $k$\", which is the number of distinct ways of choosing $k$ objects from $n$. For example, if we have a class of $20$ people and we want to select a committee of $3$ students, then there are\n",
    "\n",
    "$$ \\binom{20}{3} = \\frac{20!}{3!(20 - 3)!} = 1140. $$"
   ]
  },
  {
   "cell_type": "markdown",
   "metadata": {},
   "source": [
    "## 4. Independent Events\n",
    "\n",
    "$A$ and $B$ are independent if and only if \n",
    "\n",
    "$$ \\mathbb{P}(A \\cap B) = \\mathbb{P}(A) \\, \\mathbb{P}(B). $$\n",
    "\n",
    "Independence can arise in two distinct ways. Sometimes, we explicitly assume that two events are independent. For example, in tossing a coin twice, we usually assume the tosses are independent which reflects the fact that the coin has no memory of the first toss. In other instances, we derive independence by verifying that $\\mathbb{P}(A \\cap B) = \\mathbb{P}(A) \\, \\mathbb{P}(B)$ holds."
   ]
  },
  {
   "cell_type": "markdown",
   "metadata": {},
   "source": [
    "## 4. Conditional Probability\n",
    "\n",
    "If $\\mathbb{P}(B) > 0$ then the conditional probability of $A$ given $B$ is\n",
    "\n",
    "$$ \\mathbb{P}(A|B) = \\frac{\\mathbb{P}(A \\cap B)}{\\mathbb{P}(B)}. $$\n",
    "\n",
    "Think of $\\mathbb{P}(A|B)$ as the fraction of times $A$ occurs among those in which $B$ occurs. In general, $\\mathbb{P}(A|B) \\neq \\mathbb{P}(B|A)$. \n",
    "\n",
    "$A$ and $B$ are independent if and only if \n",
    "\n",
    "$$ \\mathbb{P}(A|B) = \\mathbb{P}(A). $$"
   ]
  },
  {
   "cell_type": "markdown",
   "metadata": {},
   "source": [
    "## 5. Bayes' Theorem\n",
    "\n",
    "Bayes' theorem describes the probability of an event, based on prior knowledge of conditions that might be related to the event. It is defined by\n",
    "\n",
    "$$ \\mathbb{P}(A \\mid B) = \\frac{\\mathbb{P}(B \\mid A) \\, \\mathbb{P}(A)}{\\mathbb{P}(B)} $$"
   ]
  }
 ],
 "metadata": {
  "kernelspec": {
   "display_name": "py310",
   "language": "python",
   "name": "python3"
  },
  "language_info": {
   "codemirror_mode": {
    "name": "ipython",
    "version": 3
   },
   "file_extension": ".py",
   "mimetype": "text/x-python",
   "name": "python",
   "nbconvert_exporter": "python",
   "pygments_lexer": "ipython3",
   "version": "3.10.13"
  }
 },
 "nbformat": 4,
 "nbformat_minor": 2
}
