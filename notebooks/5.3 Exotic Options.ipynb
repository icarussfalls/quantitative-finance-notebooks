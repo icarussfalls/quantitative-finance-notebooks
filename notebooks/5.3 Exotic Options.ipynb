{
 "cells": [
  {
   "cell_type": "markdown",
   "metadata": {},
   "source": [
    "## 0. Introduction\n",
    "\n",
    "The purpose of this notebook is to explore exotic options with reference to chapter 7 from *Stochastic Calculus for Finance II Continuous-Time Models* (Shreve, 2008) and [this GitHub page](https://github.com/cantaro86/Financial-Models-Numerical-Methods/blob/master/2.2%20Exotic%20options.ipynb) (Cantarutti, 2019)."
   ]
  },
  {
   "cell_type": "markdown",
   "metadata": {},
   "source": [
    "## 1. Barrier Options\n",
    "\n",
    "The European calls and puts considered thus far are called *vanilla* or even *plain vanilla* options. Their payoffs depend only on the final value of the underlying asset. Options whose payoffs depend on the path of the underlying asset are called *path-dependent* or *exotic* options.\n",
    "\n",
    "Barrier options are one such example and there are several different types. Some \"knock-out\" when the underlying asset price crosses a barrier (i.e., they become worthless). If the underlying asset price begins below the barrier and must cross above it to cause the knock-out, the option is said to be *up-and-out*. A *down-and-out* option has the barrier below the initial asset price and knocks out if the asset price falls below the barrier.\n",
    "\n",
    "Other options \"knock-in\" at a barrier (i.e., they pay off zero unless they cross a barrier). Knock-in options also fall into two classes, *up-and-in* and *down-and-in*. The payoff at expiration for barrier options is typically either that of a put or a call. \n",
    "\n"
   ]
  },
  {
   "cell_type": "markdown",
   "metadata": {},
   "source": [
    "### 1.1 Up-and-Out Call\n",
    "\n",
    "Our underlying risky asset is geometric Brownian motion \n",
    "\n",
    "$$ dS(t) = r S(t) \\, dt + \\sigma S(t) \\, d\\widetilde{W}(t), $$\n",
    "\n",
    "where $\\widetilde{W}(t), 0 \\leq t \\leq T$, is a Brownian motion under the risk-neutral measure $\\widetilde{\\mathbb{P}}$. Consider a European call, expiring at time $T$, with strike price $K$ and up-and-out barrier $B$. We assume $K < B$; otherwise, the option must knock out in order to be in the money and hence could only pay off zero. The solution to the SDE for the asset price is\n",
    "\n",
    "$$ S(t) = S(0) e^{\\sigma \\widetilde{W}(t) + (r - \\frac{1}{2} \\sigma^2)t} = S(0) e^{\\sigma \\widehat{W}(t)}, $$\n",
    "\n",
    "where $\\widehat{W}(t) = \\alpha t + \\widetilde{W}(t)$, and\n",
    "\n",
    "$$ a = \\frac{1}{\\sigma} \\left(r - \\frac{1}{2} \\sigma^2 \\right). $$\n",
    "\n",
    "We define $\\widehat{M}(T) = \\max_{0 \\leq t \\leq T} \\widehat{W}(t)$, so\n",
    "\n",
    "$$ \\max_{0 \\leq t \\leq T} S(t) = S(0) e^{\\sigma \\widehat{M}(T)}. $$\n",
    "\n",
    "The option knocks out if and only if $S(0)e^{\\sigma \\widehat{M}(T)} > B$; if $S(0)e^{\\sigma \\widehat{M}(T)} \\leq B$, the option pays off\n",
    "\n",
    "$$ (S(T) - K)^+ = (S(0)e^{\\sigma \\widehat{W}(T)} - K)^+. $$\n",
    "\n",
    "In other words, the payoff of the option is\n",
    "\n",
    "$$\n",
    "\\begin{aligned}\n",
    "V(T) &= (S(0)e^{\\sigma \\widehat{W}(T)} - K)^+ \\mathbb{I}_{\\{S(0)e^{\\sigma \\widehat{M}(T)} \\leq B \\}} \\\\\n",
    "     &= (S(0)e^{\\sigma \\widehat{W}(T)} - K) \\mathbb{I}_{\\{S(0)e^{\\sigma \\widehat{W}(T)} \\geq K, S(0)e^{\\sigma \\widehat{M}(T)} \\leq B \\}} \\\\\n",
    "     &= (S(0)e^{\\sigma \\widehat{W}(T)} - K) \\mathbb{I}_{\\{\\widehat{W}(T) \\geq k, \\widehat{M}(T) \\leq b \\}},\n",
    "\\end{aligned}\n",
    "$$\n",
    "\n",
    "where\n",
    "\n",
    "$$ k = \\frac{1}{\\sigma} \\log \\frac{K}{S(0)}, \\quad b = \\frac{1}{\\sigma} \\log \\frac{B}{S(0)}. $$"
   ]
  },
  {
   "cell_type": "markdown",
   "metadata": {},
   "source": [
    "Let's consider an example in Python."
   ]
  },
  {
   "cell_type": "code",
   "execution_count": 1,
   "metadata": {},
   "outputs": [],
   "source": [
    "import numpy as np\n",
    "import scipy.stats as ss"
   ]
  },
  {
   "cell_type": "code",
   "execution_count": 2,
   "metadata": {},
   "outputs": [],
   "source": [
    "# Define parameters\n",
    "S0 = 100.0     # initial asset price\n",
    "K = 100.0      # strike price\n",
    "B = 115.0      # barrier price\n",
    "T = 1.0        # time to maturity\n",
    "r = 0.04       # risk-free rate per unit T\n",
    "sigma = 0.2    # volatility per unit T"
   ]
  },
  {
   "cell_type": "code",
   "execution_count": 3,
   "metadata": {},
   "outputs": [
    {
     "name": "stdout",
     "output_type": "stream",
     "text": [
      "The price of the Up-and-Out call option by closed formula is: 0.481\n"
     ]
    }
   ],
   "source": [
    "# Closed formula\n",
    "d1 = lambda t, x: 1 / (sigma * np.sqrt(t)) * (np.log(x) + (r + sigma**2 / 2) * t)\n",
    "d2 = lambda t, x: 1 / (sigma * np.sqrt(t)) * (np.log(x) + (r - sigma**2 / 2) * t)\n",
    "\n",
    "closed_barrier_u = (\n",
    "    S0 * (ss.norm.cdf(d1(T, S0 / K)) - ss.norm.cdf(d1(T, S0 / B)))\n",
    "    - np.exp(-r * T) * K * (ss.norm.cdf(d2(T, S0 / K)) - ss.norm.cdf(d2(T, S0 / B)))\n",
    "    - B * (S0 / B) ** (-2 * r / sigma**2) * (ss.norm.cdf(d1(T, B**2 / (S0 * K))) - ss.norm.cdf(d1(T, B / S0)))\n",
    "    + np.exp(-r * T) * K * (S0 / B) ** (-2 * r / sigma**2 + 1) * (ss.norm.cdf(d2(T, B**2 / (S0 * K))) - ss.norm.cdf(d2(T, B / S0)))\n",
    ")\n",
    "\n",
    "print(f\"The price of the Up-and-Out call option by closed formula is: {closed_barrier_u:.3f}\")"
   ]
  },
  {
   "cell_type": "code",
   "execution_count": 4,
   "metadata": {},
   "outputs": [
    {
     "name": "stdout",
     "output_type": "stream",
     "text": [
      "The price of the Up-and-Out call option by Monte Carlo simulation is: 0.475     \n",
      "with standard error: 0.006\n"
     ]
    }
   ],
   "source": [
    "# Monte Carlo method\n",
    "N = 252\n",
    "dt = T / N\n",
    "paths = 100000\n",
    "S = np.zeros((N+1, paths))\n",
    "S[0, :] = S0\n",
    "\n",
    "beta1 = 0.5826                                      # correction factor to price discrete options using continuous formulas\n",
    "B_adj = B * np.exp(-beta1 * np.sqrt(dt) * sigma)    # apply barrier correction\n",
    "\n",
    "Z = ss.norm.rvs(loc=0, scale=1, size=(N,paths), random_state=42)\n",
    "for i in range(1, N+1):\n",
    "    S[i, :] = S[i-1, :] * np.exp((r - sigma**2 / 2) * dt + sigma * np.sqrt(dt) * Z[i-1, :])\n",
    "\n",
    "MT = np.amax(S, axis=0)\n",
    "ST = S[-1, :]\n",
    "payoffs = np.maximum(ST - K, 0)\n",
    "payoffs[MT >= B_adj] = 0\n",
    "mc_barrier_u = np.exp(-r * T) * np.mean(payoffs)\n",
    "mc_barrier_std_err_u = np.exp(-r * T) * ss.sem(payoffs)\n",
    "\n",
    "print(f\"The price of the Up-and-Out call option by Monte Carlo simulation is: {mc_barrier_u:.3f} \\\n",
    "    \\nwith standard error: {mc_barrier_std_err_u:.3f}\")"
   ]
  },
  {
   "cell_type": "markdown",
   "metadata": {},
   "source": [
    "## 2. Lookback Options\n",
    "\n",
    "An option whose payoff is based on the maximum that the underlying asset price attains over some interval of time prior to expiration is called a *lookback option*. We will consider a *floating strike lookback option*, where the payoff is the difference between the maximum asset price over the time between initiation and expiration and the asset price at expiration. The discussion of this option introduces a new type of differential, a differential that is neither $dt$ nor $d \\widetilde{W}(t)$. "
   ]
  },
  {
   "cell_type": "markdown",
   "metadata": {},
   "source": [
    "### 2.1 Floating Strike Lookback Option\n",
    "\n",
    "We begin with a geometric Brownian motion asset price, which may be written as\n",
    "\n",
    "$$ S(t) = S(0) e^{\\sigma \\widehat{W}(t)}, $$\n",
    "\n",
    "where, as before, $\\widehat{W}(t) = \\alpha t + \\widetilde{W}(t)$ and \n",
    "\n",
    "$$ a = \\frac{1}{\\sigma} \\left(r - \\frac{1}{2} \\sigma^2 \\right). $$\n",
    "\n",
    "With \n",
    "\n",
    "$$ \\widehat{M}(t) = \\max_{0 \\leq u \\leq t} \\widehat{W}(t), \\quad 0 \\leq t \\leq T, $$\n",
    "\n",
    "we may write the maximum of the asset price up to time $t$ as\n",
    "\n",
    "$$ Y(t) = \\max_{0 \\leq u \\leq t} S(u) = S(0) e^{\\sigma \\widehat{M}(t)}. $$\n",
    "\n",
    "The lookback option considered here pays off\n",
    "\n",
    "$$ V(T) = Y(T) - S(T) $$\n",
    "\n",
    "at expiration time $T$. This payoff is nonnegative because $Y(T) \\geq S(T)$. \n",
    "\n",
    "Let $t \\in [0, T]$ be given. At time $t$, the risk-neutral price of the lookback option is\n",
    "\n",
    "$$ V(t) = \\widetilde{\\mathbb{E}} \\left[ e^{-r(T-t)} \\left( Y(T) - S(T) \\right) \\mid \\mathcal{F}(t) \\right]. $$\n",
    "\n",
    "Because the pair of processes $(S(t), Y(t))$ has the Markov property, there must exist a function $v(t, x, y)$ such that\n",
    "\n",
    "$$ V(t) = v(t, S(t), Y(t)). $$"
   ]
  },
  {
   "cell_type": "markdown",
   "metadata": {},
   "source": [
    "Let's consider an example in Python."
   ]
  },
  {
   "cell_type": "code",
   "execution_count": 5,
   "metadata": {},
   "outputs": [
    {
     "name": "stdout",
     "output_type": "stream",
     "text": [
      "The price of the Lookback option by closed formula is: 14.793\n"
     ]
    }
   ],
   "source": [
    "# Closed formula\n",
    "Sy = 100.0     # maximum asset price up to time t (if t = 0, Sy = S0)\n",
    "z = S0 / Sy    # change of variable\n",
    "\n",
    "closed_lookback = S0 * (\n",
    "    (1 + sigma**2 / (2 * r)) * z * ss.norm.cdf(d1(T, z)) + np.exp(-r * T) * ss.norm.cdf(-d2(T, z)) \n",
    "    - (sigma**2 / (2 * r)) * np.exp(-r * T) * z**(1 - (2 * r / sigma**2)) * ss.norm.cdf(-d2(T, 1 / z)) \n",
    "    - z\n",
    ")\n",
    "\n",
    "print(f\"The price of the Lookback option by closed formula is: {closed_lookback:.3f}\")"
   ]
  },
  {
   "cell_type": "code",
   "execution_count": 6,
   "metadata": {},
   "outputs": [
    {
     "name": "stdout",
     "output_type": "stream",
     "text": [
      "The price of the Lookback option by Monte Carlo simulation is: 13.983     \n",
      "with standard error: 0.032\n"
     ]
    }
   ],
   "source": [
    "# Monte Carlo method\n",
    "S = np.zeros((N+1, paths))\n",
    "S[0, :] = S0\n",
    "\n",
    "Z = ss.norm.rvs(loc=0, scale=1, size=(N,paths), random_state=42)\n",
    "for i in range(1, N+1):\n",
    "    S[i, :] = S[i-1, :] * np.exp((r - sigma**2 / 2) * dt + sigma * np.sqrt(dt) * Z[i-1, :])\n",
    "\n",
    "YT = np.amax(S, axis=0)\n",
    "ST = S[-1, :]\n",
    "payoffs = np.maximum(YT - ST, 0)\n",
    "mc_lookback = np.exp(-r * T) * np.mean(payoffs)\n",
    "mc_lookback_std_err = np.exp(-r * T) * ss.sem(payoffs)\n",
    "\n",
    "print(f\"The price of the Lookback option by Monte Carlo simulation is: {mc_lookback:.3f} \\\n",
    "    \\nwith standard error: {mc_lookback_std_err:.3f}\")"
   ]
  },
  {
   "cell_type": "markdown",
   "metadata": {},
   "source": [
    "## 3. Asian Options\n",
    "\n",
    "An *Asian option* is one whose payoff includes a time average of the underlying asset price. The average may be over the entire time period between initiation and expiration or may be over some period of time that begins later than the initiation of the option and ends with the option's expiration. The average may be from continuous sampling, \n",
    "\n",
    "$$ \\frac{1}{T} \\int_{0}^{T} S(t) \\, dt, $$\n",
    "\n",
    "or may be from discrete sampling,\n",
    "\n",
    "$$ \\frac{1}{m} \\sum_{j=1}^{m} S(t_j), $$\n",
    "\n",
    "where $0 < t_1 < t_2 \\cdots < t_m = T$. The primary reason to base an option payoff on an average asset price is to make it more difficult for anyone to significantly affect the payoff by manipulation of the underlying asset price. The price of Asian options is not known in closed form. Therefore, we must either derive PDEs for Asian option prices or use Monte Carlo simulation."
   ]
  },
  {
   "cell_type": "markdown",
   "metadata": {},
   "source": [
    "### 3.1 Fixed Strike Asian Call\n",
    "\n",
    "Once again, we begin with a geometric Brownian motion $S(t)$ given by\n",
    "\n",
    "$$ dS(t) = rS(t) \\, dt + \\sigma S(t) \\, d \\widetilde{W}(t), $$\n",
    "\n",
    "where $\\widetilde{W}(t), 0 \\le t \\le T$, is a Brownian motion under the risk-neutral measure $\\widetilde{\\mathbb{P}}$. Consider a *fixed-strike Asian call* whose payoff at time $T$ is\n",
    "\n",
    "$$ V(T) = \\left(\\frac{1}{T} \\int_0^T S(t) \\, dt - K \\right)^+, $$\n",
    "\n",
    "where the strike price $K$ is a nonnegative constant. The price at times $t$ prior to the expiration time $T$ of this call is given by the risk-neutral pricing formula\n",
    "\n",
    "$$ V(t) = \\widetilde{\\mathbb{E}} \\left[ e^{-r(T-t)} V(T) \\mid \\mathcal{F}(t) \\right], \\ 0 \\leq t \\leq T. $$\n",
    "\n",
    "The usual iterated conditioning argument shows that\n",
    "\n",
    "$$ e^{-rt} V(t) = \\widetilde{\\mathbb{E}} \\left[ e^{-rT} V(T) \\mid \\mathcal{F}(t) \\right], \\ 0 \\leq t \\leq T, $$\n",
    "\n",
    "is a martingale under $\\widetilde{\\mathbb{P}}$. This is the quantity we wish to compute."
   ]
  },
  {
   "cell_type": "markdown",
   "metadata": {},
   "source": [
    "Let's consider an example in Python."
   ]
  },
  {
   "cell_type": "code",
   "execution_count": 7,
   "metadata": {},
   "outputs": [
    {
     "name": "stdout",
     "output_type": "stream",
     "text": [
      "The price of the Fixed Strike Asian Call option by Monte Carlo simulation is: 5.513     \n",
      "with standard error: 0.025\n"
     ]
    }
   ],
   "source": [
    "# Monte Carlo method\n",
    "S = np.zeros((N+1, paths))\n",
    "S[0, :] = S0\n",
    "\n",
    "Z = ss.norm.rvs(loc=0, scale=1, size=(N,paths), random_state=42)\n",
    "for i in range(1, N+1):\n",
    "    S[i, :] = S[i-1, :] * np.exp((r - sigma**2 / 2) * dt + sigma * np.sqrt(dt) * Z[i-1, :])\n",
    "    \n",
    "AT = np.mean(S, axis=0)\n",
    "payoffs = np.maximum(AT - K, 0)\n",
    "mc_asian_fixed = np.exp(-r * T) * np.mean(payoffs)\n",
    "mc_asian_fixed_std_err = np.exp(-r * T) * ss.sem(payoffs)\n",
    "\n",
    "print(f\"The price of the Fixed Strike Asian Call option by Monte Carlo simulation is: {mc_asian_fixed:.3f} \\\n",
    "    \\nwith standard error: {mc_asian_fixed_std_err:.3f}\")"
   ]
  }
 ],
 "metadata": {
  "kernelspec": {
   "display_name": "py310",
   "language": "python",
   "name": "python3"
  },
  "language_info": {
   "codemirror_mode": {
    "name": "ipython",
    "version": 3
   },
   "file_extension": ".py",
   "mimetype": "text/x-python",
   "name": "python",
   "nbconvert_exporter": "python",
   "pygments_lexer": "ipython3",
   "version": "3.10.13"
  }
 },
 "nbformat": 4,
 "nbformat_minor": 2
}
