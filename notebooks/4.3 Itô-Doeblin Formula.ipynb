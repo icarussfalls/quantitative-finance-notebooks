{
 "cells": [
  {
   "cell_type": "markdown",
   "metadata": {},
   "source": [
    "## 0. Introduction\n",
    "\n",
    "The purpose of this notebook is to present the summary on the Itô-Doeblin formula in chapter 4 from *Stochastic Calculus for Finance II Continuous-Time Models* (Shreve, 2008)."
   ]
  },
  {
   "cell_type": "markdown",
   "metadata": {},
   "source": [
    "## 1. The Itô Integral\n",
    "\n",
    "Let $W(t)$ be a Brownian motion and $\\Delta(t)$ a stochastic process adapted to the filtration of the Brownian motion. The Itô integral\n",
    "\n",
    "$$ I(t) = \\int_{0}^{t} \\Delta(u) \\, dW(u) \\tag{1.1} $$\n",
    "\n",
    "is a martingale."
   ]
  },
  {
   "cell_type": "markdown",
   "metadata": {},
   "source": [
    "Because it is zero at time $t = 0$, its expectation is zero for all $t$. Its variance is given by Itô's *isometry*\n",
    "\n",
    "$$ \\mathbb{E}I^2(t) = \\mathbb{E} \\int_{0}^{t} \\Delta^2(u) \\, du. \\tag{1.2} $$"
   ]
  },
  {
   "cell_type": "markdown",
   "metadata": {},
   "source": [
    "The quadratic variation accumulated by the Itô integral up to time $t$ is\n",
    "\n",
    "$$ [I, I](t) = \\int_{0}^{t} \\Delta^2(u) \\, du. \\tag{1.3} $$"
   ]
  },
  {
   "cell_type": "markdown",
   "metadata": {},
   "source": [
    "Note that the quadratic variation in equation (1.3) is computed path-by-path and the result may depend on the path, whereas the variance in equation (1.2) is an average over all paths.\n",
    "\n",
    "In differential notation, we write equation (1.1) as\n",
    "\n",
    "$$ dI(t) = \\Delta(t) \\, dW(t) \\tag{1.4} $$"
   ]
  },
  {
   "cell_type": "markdown",
   "metadata": {},
   "source": [
    "and equation (1.3) as\n",
    "\n",
    "$$ dI(t) \\, dI(t) = \\Delta^2(t) \\, dW(t) \\, dW(t) = \\Delta^2(t) \\, dt. \\tag{1.5} $$"
   ]
  },
  {
   "cell_type": "markdown",
   "metadata": {},
   "source": [
    "## 2. Itô Process\n",
    "\n",
    "An *Itô process* is a process of the form\n",
    "\n",
    "$$ X(t) = X(0) + \\int_{0}^{t} \\Delta(u) \\, dW(u) + \\int_{0}^{t} \\varTheta(u) \\, du, \\tag{2.1} $$\n",
    "\n",
    "where $X(0)$ is nonrandom and $\\Delta(u)$ and $\\varTheta(u)$ are adapted stochastic processes. The quadratic variation accumulated by $X$ up to time $t$ is\n",
    "\n",
    "$$ [X, X] (t) = \\int_{0}^{t} \\Delta^2(u) \\, du. \\tag{2.2} $$\n",
    "\n",
    "In differential notation, we write equation (2.1) as\n",
    "\n",
    "$$ dX(t) = \\Delta(t) \\, dW(t) + \\varTheta(t) \\, dt $$\n",
    "\n",
    "and equation (2.2) as\n",
    "\n",
    "$$\n",
    "\\begin{aligned}\n",
    "dX(t) \\, dX(t) &= \\left( \\Delta(t) \\, dW(t) + \\varTheta(t) \\, dt \\right)^2 \\\\\n",
    "&= \\Delta^2(t) \\, dW(t) \\, dW(t) + 2 \\Delta(t) \\varTheta(t) \\, dW(t) \\, dt + \\varTheta^2(t) \\, dt \\, dt \\\\\n",
    "&= \\Delta^2(t) \\, dt,\n",
    "\\end{aligned}\n",
    "$$\n",
    "\n",
    "where we have used the multiplication table\n",
    "\n",
    "$$ dW(t) \\, dW(t) = dt, \\quad dW(t) \\, dt = dt \\, dW(t) = 0, \\quad dt \\, dt = 0. $$"
   ]
  },
  {
   "cell_type": "markdown",
   "metadata": {},
   "source": [
    "Suppose $X$ and $Y$ are Itô processes with differentials \n",
    "\n",
    "$$ dX(t) = \\varTheta_1(t) \\, dt + \\sigma_{11}(t) \\, dW_1(t) + \\sigma_{12}(t) \\, dW_2(t), \\tag{2.3} $$\n",
    "$$ dY(t) = \\varTheta_2(t) \\, dt + \\sigma_{21}(t) \\, dW_1(t) + \\sigma_{22}(t) \\, dW_2(t), \\tag{2.4} $$"
   ]
  },
  {
   "cell_type": "markdown",
   "metadata": {},
   "source": [
    "where $W_1$ and $W_2$ are independent Brownian motions. Then\n",
    "\n",
    "$$ dX(t) \\, dX(t) = \\left(\\sigma^2_{11}(t) + \\sigma^2_{12}(t)\\right) \\, dt, \\tag{2.5} $$\n",
    "$$ dX(t) \\, dY(t) = \\left(\\sigma_{11}(t) \\sigma_{21}(t) + \\sigma_{12}(t) \\sigma_{22}(t)\\right) \\, dt, \\tag{2.6} $$\n",
    "$$ dY(t) \\, dY(t) = \\left(\\sigma^2_{21}(t) + \\sigma^2_{22}(t)\\right) \\, dt. \\tag{2.7} $$"
   ]
  },
  {
   "cell_type": "markdown",
   "metadata": {},
   "source": [
    "Equations (2.5)-(2.7) can be obtained by multiplying the equations (2.3) and (2.4) for $dX(t)$ and $dY(t)$ and using the multiplication table\n",
    "\n",
    "$$ dW_i(t) \\, dW_i(t) = dt, \\quad dW_i(t) \\, dt = dt \\, dW_i(t) = 0, \\quad dt \\, dt = 0, $$"
   ]
  },
  {
   "cell_type": "markdown",
   "metadata": {},
   "source": [
    "and\n",
    "\n",
    "$$ dW_1(t) \\, dW_2(t) = 0. \\tag{2.8} $$"
   ]
  },
  {
   "cell_type": "markdown",
   "metadata": {},
   "source": [
    "Equation (2.8) holds for *independent* Brownian motions. If instead we had\n",
    "\n",
    "$$ dW_1(t) \\, dW_2(t) = \\rho \\, dt, $$\n",
    "\n",
    "For a constant $\\rho \\in [-1, 1]$, then $\\rho$ would be the correlation between $W_1(t)$ and $W_2(t) \\text{ } (\\text{i.e., } \\mathbb{E}[W_1(t) W_2(t)] = \\rho t)$."
   ]
  },
  {
   "cell_type": "markdown",
   "metadata": {},
   "source": [
    "## 3. Itô-Doeblin Formula\n",
    "\n",
    "Now suppose $f(t, x, y)$ is a function of the time variable $t$ and two dummy variables $x$ and $y$. The multidimensional Itô–Doeblin formula says\n",
    "\n",
    "$$\n",
    "\\begin{aligned}\n",
    "df(t, X(t), Y(t)) = & \\ f_t(t, X(t), Y(t)) \\, dt + f_x(t, X(t), Y(t)) \\, dX(t) + f_y(t, X(t), Y(t)) \\, dY(t) \\\\\n",
    "& + \\frac{1}{2} f_{xx}(t, X(t), Y(t)) \\, dX(t) \\, dX(t) + f_{xy}(t, X(t), Y(t)) \\, dX(t) \\, dY(t) \\\\\n",
    "& + \\frac{1}{2} f_{yy}(t, X(t), Y(t)) \\, dY(t) \\, dY(t). \\tag{3.1}\n",
    "\\end{aligned}\n",
    "$$"
   ]
  },
  {
   "cell_type": "markdown",
   "metadata": {},
   "source": [
    "Here is what each term represents:\n",
    "\n",
    "> **$f_t(t, X(t), Y(t)) \\, dt$**: The partial derivative of $f$ with respect to time $t$, representing the deterministic change in $f$ over time.\n",
    "\n",
    "> **$f_x(t, X(t), Y(t)) \\, dX(t)$**: The partial derivative of $f$ with respect to $X$, reflecting how changes in the process $X(t)$ affect $f$.\n",
    "\n",
    "> **$f_y(t, X(t), Y(t)) \\, dY(t)$**: The partial derivative of $f$ with respect to $Y$, reflecting how changes in the process $Y(t)$ affect $f$.\n",
    "\n",
    "> **$\\frac{1}{2} f_{xx}(t, X(t), Y(t)) \\, dX(t) \\, dX(t)$**: The second partial derivative of $f$ with respect to $X$, accounting for the quadratic variation of $X(t)$.\n",
    "\n",
    "> **$f_{xy}(t, X(t), Y(t)) \\, dX(t) \\, dY(t)$**: The mixed partial derivative of $f$ with respect fo $X$ and $Y$, representing the joint effect of changes in $X(t)$ and $Y(t)$ on $f$.\n",
    "\n",
    "> **$\\frac{1}{2} f_{yy}(t, X(t), Y(t)) \\, dY(t) \\, dY(t)$**: The second partial derivative of $f$ with respect to $Y$, accounting for the quadratic variation of $Y(t)$."
   ]
  },
  {
   "cell_type": "markdown",
   "metadata": {},
   "source": [
    "Replacing all the differentials on the right-hand side of (3.1) by their formulas (2.3)–(2.7) and integrating, one obtains a formula for the stochastic process $f(t, X(t), Y(t))$ as the sum of $f(0, X(0), Y(0))$, an ordinary integral with respect to time, an Itô integral with respect to $dW_1$, and an Itô integral with respect to $dW_2$.\n",
    "\n",
    "There are two important special cases of (3.1). If the second process $Y$ is not present, (3.1) reduces to the Itô–Doeblin formula for one process:\n",
    "\n",
    "$$ df(t, X(t)) = f_t(t, X(t)) \\, dt  + f_x(t, X(t)) \\, dX(t) + \\frac{1}{2} f_{xx}(t, X(t)) \\, dX(t) \\, dX(t). $$"
   ]
  },
  {
   "cell_type": "markdown",
   "metadata": {},
   "source": [
    "Here is what each term represents:\n",
    "\n",
    "> **$f_t(t, X(t)) \\, dt$**: The partial derivative of $f$ with respect to time $t$, representing the deterministic change in $f$ over time.\n",
    "\n",
    "> **$f_x(t, X(t)) \\, dX(t)$**: The partial derivative of $f$ with respect to $X$, refelcting how changes in the process $X(t)$ affect $f$.\n",
    "\n",
    "> **$\\frac{1}{2} f_{xx}(t, X(t)) \\, dX(t) \\, dX(t)$**: The second partial derivative of $f$ with respect to $X$, accounting for the quadratic variation of $X(t)$.\n",
    "\n",
    "If both $X$ and $Y$ are present and $f(t, x, y) = xy$, then (3.1) gives us *Itô's product rule*:\n",
    "\n",
    "$$ d(X(t)Y(t)) = X(t) \\, dY(t) + Y(t) \\, dX(t) + dX(t) \\, dY(t). $$"
   ]
  }
 ],
 "metadata": {
  "language_info": {
   "name": "python"
  }
 },
 "nbformat": 4,
 "nbformat_minor": 2
}
